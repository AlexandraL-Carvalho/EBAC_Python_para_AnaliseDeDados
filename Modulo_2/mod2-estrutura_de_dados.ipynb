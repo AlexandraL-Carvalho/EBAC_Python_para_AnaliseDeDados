{
  "nbformat": 4,
  "nbformat_minor": 0,
  "metadata": {
    "colab": {
      "provenance": [],
      "toc_visible": true
    },
    "kernelspec": {
      "name": "python3",
      "display_name": "Python 3"
    }
  },
  "cells": [
    {
      "cell_type": "markdown",
      "metadata": {
        "id": "KJqp9AANOCtf"
      },
      "source": [
        "<img src=\"https://raw.githubusercontent.com/andre-marcos-perez/ebac-course-utils/main/media/logo/newebac_logo_black_half.png\" alt=\"ebac-logo\">\n",
        "\n",
        "---\n",
        "\n",
        "# **Módulo 02** | Python: Estruturas de Dados\n",
        "Caderno de **Exercícios**<br>\n",
        "Professor [André Perez](https://www.linkedin.com/in/andremarcosperez/)\n",
        "\n",
        "---"
      ]
    },
    {
      "cell_type": "markdown",
      "metadata": {
        "id": "d9jDtUbDOE1-"
      },
      "source": [
        "# **Tópicos**\n",
        "\n",
        "<ol type=\"1\">\n",
        "  <li>Listas;</li>\n",
        "  <li>Conjuntos;</li>\n",
        "  <li>Dicionários.</li>\n",
        "</ol>"
      ]
    },
    {
      "cell_type": "markdown",
      "metadata": {
        "id": "SmoHgt-lwkpD"
      },
      "source": [
        "---"
      ]
    },
    {
      "cell_type": "markdown",
      "metadata": {
        "id": "GABI6OW8OfQ2"
      },
      "source": [
        "# **Exercícios**"
      ]
    },
    {
      "cell_type": "markdown",
      "metadata": {
        "id": "muD1vxozykSC"
      },
      "source": [
        "## 1\\. Listas"
      ]
    },
    {
      "cell_type": "markdown",
      "metadata": {
        "id": "ahrFfCuBxJKs"
      },
      "source": [
        "Criei uma lista chamada `filmes` com o nome dos 10 primeiros filmes mais bem avaliados no site no [IMDB](https://www.imdb.com/chart/top/). Imprima o resultado."
      ]
    },
    {
      "cell_type": "code",
      "metadata": {
        "id": "OgL6Hv3bzOHI",
        "colab": {
          "base_uri": "https://localhost:8080/"
        },
        "outputId": "b18ed2e1-6c83-4d8f-f2b8-995ab4eb39fe"
      },
      "source": [
        "melhores_filmes_IMDB = ['Um sonho de Liberdade','O poderoso Chefão','Batman: O Cavaleiro das Trevas','O poderoso Chefão II','12 Homens e uma sentença', 'A lista de Schindler','O Senhor dos Anéis: O retorno do rei','Pulp Fiction - Tempo de violência','O Senhor dos Anéis: A sociedade do anel','Três Homens em Conflito']\n",
        "print(melhores_filmes_IMDB)\n",
        "print(type(melhores_filmes_IMDB))"
      ],
      "execution_count": 17,
      "outputs": [
        {
          "output_type": "stream",
          "name": "stdout",
          "text": [
            "['Um sonho de Liberdade', 'O poderoso Chefão', 'Batman: O Cavaleiro das Trevas', 'O poderoso Chefão II', '12 Homens e uma sentença', 'A lista de Schindler', 'O Senhor dos Anéis: O retorno do rei', 'Pulp Fiction - Tempo de violência', 'O Senhor dos Anéis: A sociedade do anel', 'Três Homens em Conflito']\n",
            "<class 'list'>\n"
          ]
        }
      ]
    },
    {
      "cell_type": "markdown",
      "metadata": {
        "id": "KI9zQRT2xa7m"
      },
      "source": [
        "Simule a movimentação do *ranking*. Utilize os métodos `insert` e `pop` para trocar a posição do primeiro e do segundo filme da lista. Imprima o resultado.\n",
        "\n"
      ]
    },
    {
      "cell_type": "code",
      "metadata": {
        "id": "zX3mA3_GzrXH",
        "colab": {
          "base_uri": "https://localhost:8080/"
        },
        "outputId": "27b4c9de-2850-4a4d-9344-9b127a2d5a19"
      },
      "source": [
        "melhores_filmes_IMDB.insert(0, 'O poderoso Chefão')\n",
        "print(melhores_filmes_IMDB)\n",
        "\n",
        "melhores_filmes_IMDB.pop(2)\n",
        "print(melhores_filmes_IMDB)"
      ],
      "execution_count": 18,
      "outputs": [
        {
          "output_type": "stream",
          "name": "stdout",
          "text": [
            "['O poderoso Chefão', 'Um sonho de Liberdade', 'O poderoso Chefão', 'Batman: O Cavaleiro das Trevas', 'O poderoso Chefão II', '12 Homens e uma sentença', 'A lista de Schindler', 'O Senhor dos Anéis: O retorno do rei', 'Pulp Fiction - Tempo de violência', 'O Senhor dos Anéis: A sociedade do anel', 'Três Homens em Conflito']\n",
            "['O poderoso Chefão', 'Um sonho de Liberdade', 'Batman: O Cavaleiro das Trevas', 'O poderoso Chefão II', '12 Homens e uma sentença', 'A lista de Schindler', 'O Senhor dos Anéis: O retorno do rei', 'Pulp Fiction - Tempo de violência', 'O Senhor dos Anéis: A sociedade do anel', 'Três Homens em Conflito']\n"
          ]
        }
      ]
    },
    {
      "cell_type": "markdown",
      "metadata": {
        "id": "zMN1Q3jdwoJm"
      },
      "source": [
        "---"
      ]
    },
    {
      "cell_type": "markdown",
      "metadata": {
        "id": "lxa5L6uF0ZJE"
      },
      "source": [
        "## 2\\. Conjuntos"
      ]
    },
    {
      "cell_type": "markdown",
      "metadata": {
        "id": "9JahS2Kj0d5u"
      },
      "source": [
        "Aconteceu um erro no seu *ranking*. Simule a duplicação dos três últimos filmes da lista. Imprima o resultado."
      ]
    },
    {
      "cell_type": "code",
      "metadata": {
        "id": "BnjnLBNC6PGe",
        "colab": {
          "base_uri": "https://localhost:8080/"
        },
        "outputId": "19a1d2cb-3cd6-441a-d76a-56fd6445b7da"
      },
      "source": [
        "melhores_filmes_IMDB = ['Um sonho de Liberdade','O poderoso Chefão','Batman: O Cavaleiro das Trevas','O poderoso Chefão II','12 Homens e uma sentença', 'A lista de Schindler','O Senhor dos Anéis: O retorno do rei','Pulp Fiction - Tempo de violência','O Senhor dos Anéis: A sociedade do anel','Três Homens em Conflito','Pulp Fiction - Tempo de violência','O Senhor dos Anéis: A sociedade do anel','Três Homens em Conflito']\n",
        "print(melhores_filmes_IMDB)\n",
        "print(type(melhores_filmes_IMDB))"
      ],
      "execution_count": 19,
      "outputs": [
        {
          "output_type": "stream",
          "name": "stdout",
          "text": [
            "['Um sonho de Liberdade', 'O poderoso Chefão', 'Batman: O Cavaleiro das Trevas', 'O poderoso Chefão II', '12 Homens e uma sentença', 'A lista de Schindler', 'O Senhor dos Anéis: O retorno do rei', 'Pulp Fiction - Tempo de violência', 'O Senhor dos Anéis: A sociedade do anel', 'Três Homens em Conflito', 'Pulp Fiction - Tempo de violência', 'O Senhor dos Anéis: A sociedade do anel', 'Três Homens em Conflito']\n",
            "<class 'list'>\n"
          ]
        }
      ]
    },
    {
      "cell_type": "markdown",
      "metadata": {
        "id": "suxTfCJB6ZiX"
      },
      "source": [
        "Utiliza a conversão `set` e `list` para remover os valores duplicados. Imprima o resultado."
      ]
    },
    {
      "cell_type": "code",
      "metadata": {
        "id": "ZvUGN-0n6joM",
        "colab": {
          "base_uri": "https://localhost:8080/"
        },
        "outputId": "c23a04a9-ff7d-433f-8ea3-077cd3728a6e"
      },
      "source": [
        "melhores_filmes_IMDB = {'Um sonho de Liberdade','O poderoso Chefão','Batman: O Cavaleiro das Trevas','O poderoso Chefão II','12 Homens e uma sentença', 'A lista de Schindler','O Senhor dos Anéis: O retorno do rei','Pulp Fiction - Tempo de violência','O Senhor dos Anéis: A sociedade do anel','Três Homens em Conflito','Pulp Fiction - Tempo de violência','O Senhor dos Anéis: A sociedade do anel','Três Homens em Conflito'}\n",
        "print(melhores_filmes_IMDB)\n",
        "print(type(melhores_filmes_IMDB))\n",
        "\n",
        "print(list(melhores_filmes_IMDB))\n",
        "print(type(list(melhores_filmes_IMDB)))"
      ],
      "execution_count": 20,
      "outputs": [
        {
          "output_type": "stream",
          "name": "stdout",
          "text": [
            "{'Pulp Fiction - Tempo de violência', 'A lista de Schindler', 'Batman: O Cavaleiro das Trevas', 'O Senhor dos Anéis: A sociedade do anel', 'O poderoso Chefão', 'Três Homens em Conflito', 'Um sonho de Liberdade', '12 Homens e uma sentença', 'O poderoso Chefão II', 'O Senhor dos Anéis: O retorno do rei'}\n",
            "<class 'set'>\n",
            "['Pulp Fiction - Tempo de violência', 'A lista de Schindler', 'Batman: O Cavaleiro das Trevas', 'O Senhor dos Anéis: A sociedade do anel', 'O poderoso Chefão', 'Três Homens em Conflito', 'Um sonho de Liberdade', '12 Homens e uma sentença', 'O poderoso Chefão II', 'O Senhor dos Anéis: O retorno do rei']\n",
            "<class 'list'>\n"
          ]
        }
      ]
    },
    {
      "cell_type": "markdown",
      "metadata": {
        "id": "ShkK35eQ6pAM"
      },
      "source": [
        "---"
      ]
    },
    {
      "cell_type": "markdown",
      "metadata": {
        "id": "EL_FzmxL6rTv"
      },
      "source": [
        "## 3\\. Dicionários"
      ]
    },
    {
      "cell_type": "code",
      "source": [],
      "metadata": {
        "id": "I5vlfM1pDtYq"
      },
      "execution_count": null,
      "outputs": []
    },
    {
      "cell_type": "markdown",
      "metadata": {
        "id": "i8l0gFqRCpfT"
      },
      "source": [
        "Repita os exercícios da parte 1 (listas). Os elementos da lista `filmes` devem ser dicionários no seguinte formato: `{'nome': <nome-do-filme>, 'ano': <ano do filme>}, 'sinopse': <sinopse do filme>}`."
      ]
    },
    {
      "cell_type": "code",
      "source": [
        "melhores_filmes_IMDB = ['Um sonho de Liberdade','O Poderoso Chefão','Batman: O Cavaleiro das Trevas','O Poderoso Chefão II','12 Homens e uma sentença', 'A lista de Schindler','O Senhor dos Anéis: O retorno do rei','Pulp Fiction - Tempo de violência','O Senhor dos Anéis: A sociedade do anel','Três Homens em Conflito']\n",
        "print(melhores_filmes_IMDB)\n",
        "print(type(melhores_filmes_IMDB))"
      ],
      "metadata": {
        "colab": {
          "base_uri": "https://localhost:8080/"
        },
        "id": "CEG2libICsBH",
        "outputId": "146f8462-2ce3-438a-cbe0-c39370376ca0"
      },
      "execution_count": 21,
      "outputs": [
        {
          "output_type": "stream",
          "name": "stdout",
          "text": [
            "['Um sonho de Liberdade', 'O Poderoso Chefão', 'Batman: O Cavaleiro das Trevas', 'O Poderoso Chefão II', '12 Homens e uma sentença', 'A lista de Schindler', 'O Senhor dos Anéis: O retorno do rei', 'Pulp Fiction - Tempo de violência', 'O Senhor dos Anéis: A sociedade do anel', 'Três Homens em Conflito']\n",
            "<class 'list'>\n"
          ]
        }
      ]
    },
    {
      "cell_type": "code",
      "source": [
        "filme_rank_1 = {'filme':'Um sonho de Liberdade','ano':'1994','sinopse':'Dois homens presos se reúnem ao longo de vários anos, encontrando consolo e eventual redenção através de atos de decência comum.'}\n",
        "print(filme_rank_1)\n",
        "print(type(filme_rank_1))\n",
        "\n",
        "filme_rank_2 = {'filme':'O Poderoso Chefão','ano':'1972','sinopse':'O patriarca idoso de uma dinastia do crime organizado transfere o controle de seu império clandestino para seu filho relutante.'}\n",
        "print(filme_rank_2)\n",
        "print(type(filme_rank_2))\n",
        "\n",
        "filme_rank_3 = {'filme':'Batman: O Cavaleiro das Trevas','ano':'2008','sinopse':'Quando a ameaça conhecida como O Coringa surge de seu passado, causa estragos e caos nas pessoas de Gotham. O Cavaleiro das Trevas deve aceitar um dos maiores testes para combater a injustiça.'}\n",
        "print(filme_rank_3)\n",
        "print(type(filme_rank_3))\n",
        "\n",
        "filme_rank_4 = {'filme':'O Poderoso Chefão II','ano':'1974','sinopse':'Em 1950, Michael Corleone, agora à frente da família, tenta expandir o negócio do crime a Las Vegas, Los Angeles e Cuba. Paralelamente, é revelada a história de Vito Corleone, e de como saiu da Sicília e chegou a Nova Iorque.'}\n",
        "print(filme_rank_4)\n",
        "print(type(filme_rank_4))\n",
        "\n",
        "filme_rank_5 = { 'filme':'12 Homens e uma Sentença','ano':'1957','sinopse':'O julgamento de um assassinato em Nova Iorque é frustrado por um único membro, cujo ceticismo força o júri a considerar cuidadosamente as evidências antes de dar o veredito.'}\n",
        "print(filme_rank_5)\n",
        "print(type(filme_rank_5))\n",
        "\n",
        "filme_rank_6 = {'filme':'A Lista de Schindler','ano':'1993','sinopse':'Na Polônia ocupada pelos alemães durante a Segunda Guerra Mundial, o industrial Oskar Schindler começa a ser preocupar com seus trabalhadores judeus depois de testemunhar sua perseguição pelos nazistas.'}\n",
        "print(filme_rank_6)\n",
        "print(type(filme_rank_6))\n",
        "\n",
        "filme_rank_7 = {'filme':'O Senhor dos Anéis: O Retorno do Rei','ano':'2003','sinopse':'Gandalf e Aragorn lideram o Mundo dos Homens contra o exército de Sauron para desviar o olhar de Frodo e Sam quando eles se aproximam á Montanha da Perdição com o Um Anel.'}\n",
        "print(filme_rank_7)\n",
        "print(type(filme_rank_7))\n",
        "\n",
        "filme_rank_8 = {'filme':'Pulp Fiction - Tempo de Violência','ano':'1994','sinopse':'As vidas de dois assassinos da máfia, um boxeador, um gângster e sua esposa, e um par de bandidos se entrelaçam em quatro histórias de violência e redenção.'}\n",
        "print(filme_rank_8)\n",
        "print(type(filme_rank_8))\n",
        "\n",
        "filme_rank_9 = {'filme':'O Senhor dos Anéis: A Sociedade do Anel','ano':'2001','sinopse': 'Um manso hobbit do Condado e oito companheiros partem em uma jornada para destruir o poderoso Um Anel e salvar a Terra-média das Trevas.'}\n",
        "print(filme_rank_9)\n",
        "print(type(filme_rank_9))\n",
        "\n",
        "filme_rank_10 = { 'filme':'Três Homens em Conflito','ano':'1966','sinopse':'Um impostor se junta com dois homens para encontrar fortuna num remoto cemitério.'}\n",
        "print(filme_rank_10)\n",
        "print(type(filme_rank_10))"
      ],
      "metadata": {
        "colab": {
          "base_uri": "https://localhost:8080/"
        },
        "id": "H2JG03uIFgW8",
        "outputId": "4c61db38-17a7-4af4-f425-8a092f7946a6"
      },
      "execution_count": 16,
      "outputs": [
        {
          "output_type": "stream",
          "name": "stdout",
          "text": [
            "{'filme': 'Um sonho de Liberdade', 'ano': '1994', 'sinopse': 'Dois homens presos se reúnem ao longo de vários anos, encontrando consolo e eventual redenção através de atos de decência comum.'}\n",
            "<class 'dict'>\n",
            "{'filme': 'O Poderoso Chefão', 'ano': '1972', 'sinopse': 'O patriarca idoso de uma dinastia do crime organizado transfere o controle de seu império clandestino para seu filho relutante.'}\n",
            "<class 'dict'>\n",
            "{'filme': 'Batman: O Cavaleiro das Trevas', 'ano': '2008', 'sinopse': 'Quando a ameaça conhecida como O Coringa surge de seu passado, causa estragos e caos nas pessoas de Gotham. O Cavaleiro das Trevas deve aceitar um dos maiores testes para combater a injustiça.'}\n",
            "<class 'dict'>\n",
            "{'filme': 'O Poderoso Chefão II', 'ano': '1974', 'sinopse': 'Em 1950, Michael Corleone, agora à frente da família, tenta expandir o negócio do crime a Las Vegas, Los Angeles e Cuba. Paralelamente, é revelada a história de Vito Corleone, e de como saiu da Sicília e chegou a Nova Iorque.'}\n",
            "<class 'dict'>\n",
            "{'filme': '12 Homens e uma Sentença', 'ano': '1957', 'sinopse': 'O julgamento de um assassinato em Nova Iorque é frustrado por um único membro, cujo ceticismo força o júri a considerar cuidadosamente as evidências antes de dar o veredito.'}\n",
            "<class 'dict'>\n",
            "{'filme': 'A Lista de Schindler', 'ano': '1993', 'sinopse': 'Na Polônia ocupada pelos alemães durante a Segunda Guerra Mundial, o industrial Oskar Schindler começa a ser preocupar com seus trabalhadores judeus depois de testemunhar sua perseguição pelos nazistas.'}\n",
            "<class 'dict'>\n",
            "{'filme': 'O Senhor dos Anéis: O Retorno do Rei', 'ano': '2003', 'sinopse': 'Gandalf e Aragorn lideram o Mundo dos Homens contra o exército de Sauron para desviar o olhar de Frodo e Sam quando eles se aproximam á Montanha da Perdição com o Um Anel.'}\n",
            "<class 'dict'>\n",
            "{'filme': 'Pulp Fiction - Tempo de Violência', 'ano': '1994', 'sinopse': 'As vidas de dois assassinos da máfia, um boxeador, um gângster e sua esposa, e um par de bandidos se entrelaçam em quatro histórias de violência e redenção.'}\n",
            "<class 'dict'>\n",
            "{'filme': 'O Senhor dos Anéis: A Sociedade do Anel', 'ano': '2001', 'sinopse': 'Um manso hobbit do Condado e oito companheiros partem em uma jornada para destruir o poderoso Um Anel e salvar a Terra-média das Trevas.'}\n",
            "<class 'dict'>\n",
            "{'filme': 'Três Homens em Conflito', 'ano': '1966', 'sinopse': 'Um impostor se junta com dois homens para encontrar fortuna num remoto cemitério.'}\n",
            "<class 'dict'>\n"
          ]
        }
      ]
    }
  ]
}